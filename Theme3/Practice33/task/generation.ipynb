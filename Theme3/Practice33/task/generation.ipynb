{
 "cells": [
  {
   "cell_type": "code",
   "execution_count": 2,
   "metadata": {},
   "outputs": [
    {
     "name": "stdout",
     "output_type": "stream",
     "text": [
      "Файли збережено: variants\\variant_1_regression.csv, variants\\variant_1_classification.csv\n",
      "Файли збережено: variants\\variant_2_regression.csv, variants\\variant_2_classification.csv\n",
      "Файли збережено: variants\\variant_3_regression.csv, variants\\variant_3_classification.csv\n",
      "Файли збережено: variants\\variant_4_regression.csv, variants\\variant_4_classification.csv\n",
      "Файли збережено: variants\\variant_5_regression.csv, variants\\variant_5_classification.csv\n",
      "Файли збережено: variants\\variant_6_regression.csv, variants\\variant_6_classification.csv\n",
      "Файли збережено: variants\\variant_7_regression.csv, variants\\variant_7_classification.csv\n",
      "Файли збережено: variants\\variant_8_regression.csv, variants\\variant_8_classification.csv\n",
      "Файли збережено: variants\\variant_9_regression.csv, variants\\variant_9_classification.csv\n",
      "Файли збережено: variants\\variant_10_regression.csv, variants\\variant_10_classification.csv\n",
      "Файли збережено: variants\\variant_11_regression.csv, variants\\variant_11_classification.csv\n",
      "Файли збережено: variants\\variant_12_regression.csv, variants\\variant_12_classification.csv\n",
      "Файли збережено: variants\\variant_13_regression.csv, variants\\variant_13_classification.csv\n",
      "Файли збережено: variants\\variant_14_regression.csv, variants\\variant_14_classification.csv\n",
      "Файли збережено: variants\\variant_15_regression.csv, variants\\variant_15_classification.csv\n",
      "Файли збережено: variants\\variant_16_regression.csv, variants\\variant_16_classification.csv\n",
      "Файли збережено: variants\\variant_17_regression.csv, variants\\variant_17_classification.csv\n",
      "Файли збережено: variants\\variant_18_regression.csv, variants\\variant_18_classification.csv\n",
      "Файли збережено: variants\\variant_19_regression.csv, variants\\variant_19_classification.csv\n",
      "Файли збережено: variants\\variant_20_regression.csv, variants\\variant_20_classification.csv\n",
      "Генерація завершена ✅\n"
     ]
    }
   ],
   "source": [
    "import numpy as np\n",
    "import pandas as pd\n",
    "import os\n",
    "from sklearn.datasets import make_regression, make_classification\n",
    "\n",
    "# Кількість варіантів (кількість слухачів)\n",
    "num_variants = 20  \n",
    "n_samples = 1000\n",
    "\n",
    "# Директорія для збереження файлів\n",
    "output_dir = \"variants\"\n",
    "os.makedirs(output_dir, exist_ok=True)\n",
    "\n",
    "# Функція для генерації даних регресії\n",
    "def generate_regression_data(seed, num_samples=n_samples, num_features=5):\n",
    "    X, y = make_regression(n_samples=num_samples, \n",
    "                           n_features=num_features, \n",
    "                           noise=20,  # Додаємо шум\n",
    "                           random_state=seed)\n",
    "    \n",
    "    # Перетворюємо у DataFrame\n",
    "    df = pd.DataFrame(X, columns=[f\"feature_{i+1}\" for i in range(num_features)])\n",
    "    df[\"category\"] = np.random.choice([\"A\", \"B\", \"C\"], num_samples)  # Категоріальна ознака\n",
    "    df[\"target\"] = y  # Цільова змінна\n",
    "\n",
    "    return df\n",
    "\n",
    "# Функція для генерації даних класифікації\n",
    "def generate_classification_data(seed, num_samples=n_samples, num_features=5):\n",
    "    X, y = make_classification(n_samples=num_samples, \n",
    "                               n_features=num_features, \n",
    "                               n_informative=5,  # Всі ознаки важливі\n",
    "                               n_redundant=0, \n",
    "                               n_classes=2, \n",
    "                               random_state=seed)\n",
    "    \n",
    "    # Перетворюємо у DataFrame\n",
    "    df = pd.DataFrame(X, columns=[f\"feature_{i+1}\" for i in range(num_features)])\n",
    "    df[\"category\"] = np.random.choice([\"A\", \"B\", \"C\"], num_samples)  # Категоріальна ознака\n",
    "    df[\"target\"] = y  # Клас (0 або 1)\n",
    "\n",
    "    return df\n",
    "\n",
    "# Генерація файлів\n",
    "for i in range(1, num_variants + 1):\n",
    "    reg_data = generate_regression_data(seed=i)\n",
    "    clf_data = generate_classification_data(seed=i)\n",
    "    \n",
    "    reg_filename = os.path.join(output_dir, f\"variant_{i}_regression.csv\")\n",
    "    clf_filename = os.path.join(output_dir, f\"variant_{i}_classification.csv\")\n",
    "    \n",
    "    reg_data.to_csv(reg_filename, index=False)\n",
    "    clf_data.to_csv(clf_filename, index=False)\n",
    "\n",
    "    print(f\"Файли збережено: {reg_filename}, {clf_filename}\")\n",
    "\n",
    "print(\"Генерація завершена ✅\")\n"
   ]
  }
 ],
 "metadata": {
  "kernelspec": {
   "display_name": "Python 3",
   "language": "python",
   "name": "python3"
  },
  "language_info": {
   "codemirror_mode": {
    "name": "ipython",
    "version": 3
   },
   "file_extension": ".py",
   "mimetype": "text/x-python",
   "name": "python",
   "nbconvert_exporter": "python",
   "pygments_lexer": "ipython3",
   "version": "3.11.9"
  }
 },
 "nbformat": 4,
 "nbformat_minor": 2
}
