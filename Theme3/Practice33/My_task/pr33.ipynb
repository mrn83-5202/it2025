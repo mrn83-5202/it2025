{
 "cells": [
  {
   "cell_type": "markdown",
   "metadata": {},
   "source": [
    "Практична рообота тема 3/3"
   ]
  },
  {
   "cell_type": "markdown",
   "metadata": {},
   "source": [
    "## 1 Регресія"
   ]
  },
  {
   "cell_type": "code",
   "execution_count": 2,
   "metadata": {},
   "outputs": [
    {
     "data": {
      "text/html": [
       "<div>\n",
       "<style scoped>\n",
       "    .dataframe tbody tr th:only-of-type {\n",
       "        vertical-align: middle;\n",
       "    }\n",
       "\n",
       "    .dataframe tbody tr th {\n",
       "        vertical-align: top;\n",
       "    }\n",
       "\n",
       "    .dataframe thead th {\n",
       "        text-align: right;\n",
       "    }\n",
       "</style>\n",
       "<table border=\"1\" class=\"dataframe\">\n",
       "  <thead>\n",
       "    <tr style=\"text-align: right;\">\n",
       "      <th></th>\n",
       "      <th>feature_1</th>\n",
       "      <th>feature_2</th>\n",
       "      <th>feature_3</th>\n",
       "      <th>feature_4</th>\n",
       "      <th>feature_5</th>\n",
       "      <th>category</th>\n",
       "      <th>target</th>\n",
       "    </tr>\n",
       "  </thead>\n",
       "  <tbody>\n",
       "    <tr>\n",
       "      <th>0</th>\n",
       "      <td>1.869022</td>\n",
       "      <td>-1.593148</td>\n",
       "      <td>2.301561</td>\n",
       "      <td>-1.106284</td>\n",
       "      <td>0.990264</td>\n",
       "      <td>A</td>\n",
       "      <td>122.746719</td>\n",
       "    </tr>\n",
       "    <tr>\n",
       "      <th>1</th>\n",
       "      <td>-1.043400</td>\n",
       "      <td>1.320418</td>\n",
       "      <td>0.471534</td>\n",
       "      <td>0.956689</td>\n",
       "      <td>0.518969</td>\n",
       "      <td>C</td>\n",
       "      <td>-37.637373</td>\n",
       "    </tr>\n",
       "    <tr>\n",
       "      <th>2</th>\n",
       "      <td>0.194242</td>\n",
       "      <td>-1.061130</td>\n",
       "      <td>-0.366098</td>\n",
       "      <td>0.938927</td>\n",
       "      <td>-1.323831</td>\n",
       "      <td>C</td>\n",
       "      <td>-13.666560</td>\n",
       "    </tr>\n",
       "    <tr>\n",
       "      <th>3</th>\n",
       "      <td>0.463217</td>\n",
       "      <td>0.475341</td>\n",
       "      <td>-0.688159</td>\n",
       "      <td>1.750722</td>\n",
       "      <td>0.565973</td>\n",
       "      <td>B</td>\n",
       "      <td>142.042464</td>\n",
       "    </tr>\n",
       "    <tr>\n",
       "      <th>4</th>\n",
       "      <td>-0.108010</td>\n",
       "      <td>0.567931</td>\n",
       "      <td>-1.146575</td>\n",
       "      <td>0.423871</td>\n",
       "      <td>-0.692175</td>\n",
       "      <td>A</td>\n",
       "      <td>11.615572</td>\n",
       "    </tr>\n",
       "  </tbody>\n",
       "</table>\n",
       "</div>"
      ],
      "text/plain": [
       "   feature_1  feature_2  feature_3  feature_4  feature_5 category      target\n",
       "0   1.869022  -1.593148   2.301561  -1.106284   0.990264        A  122.746719\n",
       "1  -1.043400   1.320418   0.471534   0.956689   0.518969        C  -37.637373\n",
       "2   0.194242  -1.061130  -0.366098   0.938927  -1.323831        C  -13.666560\n",
       "3   0.463217   0.475341  -0.688159   1.750722   0.565973        B  142.042464\n",
       "4  -0.108010   0.567931  -1.146575   0.423871  -0.692175        A   11.615572"
      ]
     },
     "execution_count": 2,
     "metadata": {},
     "output_type": "execute_result"
    }
   ],
   "source": [
    "import pandas as pd\n",
    "from sklearn.model_selection import train_test_split\n",
    "from sklearn.preprocessing import StandardScaler\n",
    "\n",
    "# Завантаження даних\n",
    "df = pd.read_csv(\"variant_1_regression.csv\")\n",
    "\n",
    "df.head()"
   ]
  },
  {
   "cell_type": "code",
   "execution_count": 4,
   "metadata": {},
   "outputs": [],
   "source": [
    "\n",
    "\n",
    "# Видалення пропущених значень\n",
    "df.dropna(inplace=True)\n",
    "\n",
    "# Перетворення категоріальних змінних\n",
    "df = pd.get_dummies(df, columns=[\"category\"], drop_first=True)\n",
    "\n",
    "# Визначення X (ознаки) та y (цільова змінна)\n",
    "X = df.drop(columns=[\"target\"])\n",
    "y = df[\"target\"]\n",
    "\n",
    "# Розбиття на тренувальний та тестовий набір\n",
    "X_train, X_test, y_train, y_test = train_test_split(X, y, test_size=0.2, random_state=42)\n",
    "\n",
    "# Масштабування ознак\n",
    "scaler = StandardScaler()\n",
    "X_train = scaler.fit_transform(X_train)\n",
    "X_test = scaler.transform(X_test)"
   ]
  },
  {
   "cell_type": "code",
   "execution_count": 7,
   "metadata": {},
   "outputs": [
    {
     "name": "stdout",
     "output_type": "stream",
     "text": [
      "MAE: 16.10\n",
      "MSE: 411.13\n",
      "r2s: 0.95\n"
     ]
    }
   ],
   "source": [
    "from sklearn.linear_model import LinearRegression\n",
    "from sklearn.metrics import mean_absolute_error, mean_squared_error, r2_score\n",
    "\n",
    "# Створення моделі\n",
    "model_lr = LinearRegression()\n",
    "\n",
    "# Навчання моделі\n",
    "model_lr.fit(X_train, y_train)\n",
    "\n",
    "# Прогнозування\n",
    "y_pred_lr = model_lr.predict(X_test)\n",
    "\n",
    "# Оцінка якості моделі\n",
    "mae = mean_absolute_error(y_test, y_pred_lr)\n",
    "mse = mean_squared_error(y_test, y_pred_lr)\n",
    "r2s = r2_score(y_test, y_pred_lr)\n",
    "\n",
    "print(f\"MAE: {mae:.2f}\")\n",
    "print(f\"MSE: {mse:.2f}\")\n",
    "print(f\"r2s: {r2s:.2f}\")\n"
   ]
  },
  {
   "cell_type": "code",
   "execution_count": 8,
   "metadata": {},
   "outputs": [
    {
     "name": "stdout",
     "output_type": "stream",
     "text": [
      "MAE (Random Forest): 21.430409069101096\n",
      "MSE (Random Forest): 760.6617653357396\n",
      "r2s: 0.91\n"
     ]
    }
   ],
   "source": [
    "from sklearn.ensemble import RandomForestRegressor\n",
    "\n",
    "# Створення та навчання моделі\n",
    "model_rf = RandomForestRegressor(n_estimators=100, random_state=42)\n",
    "model_rf.fit(X_train, y_train)\n",
    "\n",
    "# Прогнозування\n",
    "y_pred_rf = model_rf.predict(X_test)\n",
    "\n",
    "# Оцінка якості\n",
    "mae_rf = mean_absolute_error(y_test, y_pred_rf)\n",
    "mse_rf = mean_squared_error(y_test, y_pred_rf)\n",
    "r2s_rf = r2_score(y_test, y_pred_rf)\n",
    "\n",
    "print(f\"MAE (Random Forest): {mae_rf}\")\n",
    "print(f\"MSE (Random Forest): {mse_rf}\")\n",
    "print(f\"r2s: {r2s_rf:.2f}\")"
   ]
  },
  {
   "cell_type": "markdown",
   "metadata": {},
   "source": [
    "Таким чином перша модель (лінійна регресія) показала кращі результати (вищий показник r²-score)"
   ]
  },
  {
   "cell_type": "markdown",
   "metadata": {},
   "source": [
    "## 2. Класифікація"
   ]
  },
  {
   "cell_type": "code",
   "execution_count": null,
   "metadata": {},
   "outputs": [],
   "source": []
  }
 ],
 "metadata": {
  "kernelspec": {
   "display_name": "Python 3",
   "language": "python",
   "name": "python3"
  },
  "language_info": {
   "codemirror_mode": {
    "name": "ipython",
    "version": 3
   },
   "file_extension": ".py",
   "mimetype": "text/x-python",
   "name": "python",
   "nbconvert_exporter": "python",
   "pygments_lexer": "ipython3",
   "version": "3.11.9"
  }
 },
 "nbformat": 4,
 "nbformat_minor": 2
}
